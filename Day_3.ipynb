{
  "cells": [
    {
      "cell_type": "markdown",
      "metadata": {
        "colab_type": "text",
        "id": "view-in-github"
      },
      "source": [
        "<a href=\"https://colab.research.google.com/github/AnaPaulaPaludo/Day-3-Revis-o-Libs-DEX/blob/main/Day_3.ipynb\" target=\"_parent\"><img src=\"https://colab.research.google.com/assets/colab-badge.svg\" alt=\"Open In Colab\"/></a>"
      ]
    },
    {
      "cell_type": "code",
      "execution_count": 2,
      "metadata": {
        "id": "a0uyi4eXcKzx"
      },
      "outputs": [],
      "source": [
        "import pandas as pd"
      ]
    },
    {
      "cell_type": "code",
      "execution_count": null,
      "metadata": {
        "id": "8HHRIrq_jPzZ"
      },
      "outputs": [],
      "source": [
        "#Numpy é para Array, Matriz\n",
        "#Pandas é para dados tabulares\n",
        "#Seaborn é para fazer gráfico\n",
        "\n",
        "#editando branch"
      ]
    },
    {
      "cell_type": "code",
      "execution_count": 27,
      "metadata": {
        "id": "5ttVUABJcmG9"
      },
      "outputs": [],
      "source": [
        "data = {\"Nome\":[\"Nicolas\", \"Daniel\", \"Julia\"],\"Idade\":[25,29,23],\"Cidade\":[\"São Paulo\",\"Cotia\",\"Curitiba\"]}"
      ]
    },
    {
      "cell_type": "code",
      "execution_count": 4,
      "metadata": {
        "id": "ciGvap1wcmwx"
      },
      "outputs": [],
      "source": [
        "#Dataframe é o formato como o Pandas trabalha com dados. Dataframe PySpark"
      ]
    },
    {
      "cell_type": "code",
      "execution_count": 28,
      "metadata": {
        "id": "UjniBn81cuKv"
      },
      "outputs": [],
      "source": [
        "df = pd.DataFrame(data)"
      ]
    },
    {
      "cell_type": "code",
      "execution_count": 10,
      "metadata": {
        "colab": {
          "base_uri": "https://localhost:8080/",
          "height": 144
        },
        "id": "ybFWeGqfcx0t",
        "outputId": "a06083dd-cf1d-46a8-aa62-8bb43055550d"
      },
      "outputs": [
        {
          "data": {
            "text/html": [
              "\n",
              "  <div id=\"df-ba651571-645d-4a92-bff3-9fc2b0166efb\">\n",
              "    <div class=\"colab-df-container\">\n",
              "      <div>\n",
              "<style scoped>\n",
              "    .dataframe tbody tr th:only-of-type {\n",
              "        vertical-align: middle;\n",
              "    }\n",
              "\n",
              "    .dataframe tbody tr th {\n",
              "        vertical-align: top;\n",
              "    }\n",
              "\n",
              "    .dataframe thead th {\n",
              "        text-align: right;\n",
              "    }\n",
              "</style>\n",
              "<table border=\"1\" class=\"dataframe\">\n",
              "  <thead>\n",
              "    <tr style=\"text-align: right;\">\n",
              "      <th></th>\n",
              "      <th>Nome</th>\n",
              "      <th>Idade</th>\n",
              "    </tr>\n",
              "  </thead>\n",
              "  <tbody>\n",
              "    <tr>\n",
              "      <th>0</th>\n",
              "      <td>Nicolas</td>\n",
              "      <td>25</td>\n",
              "    </tr>\n",
              "    <tr>\n",
              "      <th>1</th>\n",
              "      <td>Daniel</td>\n",
              "      <td>29</td>\n",
              "    </tr>\n",
              "    <tr>\n",
              "      <th>2</th>\n",
              "      <td>Julia</td>\n",
              "      <td>23</td>\n",
              "    </tr>\n",
              "  </tbody>\n",
              "</table>\n",
              "</div>\n",
              "      <button class=\"colab-df-convert\" onclick=\"convertToInteractive('df-ba651571-645d-4a92-bff3-9fc2b0166efb')\"\n",
              "              title=\"Convert this dataframe to an interactive table.\"\n",
              "              style=\"display:none;\">\n",
              "        \n",
              "  <svg xmlns=\"http://www.w3.org/2000/svg\" height=\"24px\"viewBox=\"0 0 24 24\"\n",
              "       width=\"24px\">\n",
              "    <path d=\"M0 0h24v24H0V0z\" fill=\"none\"/>\n",
              "    <path d=\"M18.56 5.44l.94 2.06.94-2.06 2.06-.94-2.06-.94-.94-2.06-.94 2.06-2.06.94zm-11 1L8.5 8.5l.94-2.06 2.06-.94-2.06-.94L8.5 2.5l-.94 2.06-2.06.94zm10 10l.94 2.06.94-2.06 2.06-.94-2.06-.94-.94-2.06-.94 2.06-2.06.94z\"/><path d=\"M17.41 7.96l-1.37-1.37c-.4-.4-.92-.59-1.43-.59-.52 0-1.04.2-1.43.59L10.3 9.45l-7.72 7.72c-.78.78-.78 2.05 0 2.83L4 21.41c.39.39.9.59 1.41.59.51 0 1.02-.2 1.41-.59l7.78-7.78 2.81-2.81c.8-.78.8-2.07 0-2.86zM5.41 20L4 18.59l7.72-7.72 1.47 1.35L5.41 20z\"/>\n",
              "  </svg>\n",
              "      </button>\n",
              "      \n",
              "  <style>\n",
              "    .colab-df-container {\n",
              "      display:flex;\n",
              "      flex-wrap:wrap;\n",
              "      gap: 12px;\n",
              "    }\n",
              "\n",
              "    .colab-df-convert {\n",
              "      background-color: #E8F0FE;\n",
              "      border: none;\n",
              "      border-radius: 50%;\n",
              "      cursor: pointer;\n",
              "      display: none;\n",
              "      fill: #1967D2;\n",
              "      height: 32px;\n",
              "      padding: 0 0 0 0;\n",
              "      width: 32px;\n",
              "    }\n",
              "\n",
              "    .colab-df-convert:hover {\n",
              "      background-color: #E2EBFA;\n",
              "      box-shadow: 0px 1px 2px rgba(60, 64, 67, 0.3), 0px 1px 3px 1px rgba(60, 64, 67, 0.15);\n",
              "      fill: #174EA6;\n",
              "    }\n",
              "\n",
              "    [theme=dark] .colab-df-convert {\n",
              "      background-color: #3B4455;\n",
              "      fill: #D2E3FC;\n",
              "    }\n",
              "\n",
              "    [theme=dark] .colab-df-convert:hover {\n",
              "      background-color: #434B5C;\n",
              "      box-shadow: 0px 1px 3px 1px rgba(0, 0, 0, 0.15);\n",
              "      filter: drop-shadow(0px 1px 2px rgba(0, 0, 0, 0.3));\n",
              "      fill: #FFFFFF;\n",
              "    }\n",
              "  </style>\n",
              "\n",
              "      <script>\n",
              "        const buttonEl =\n",
              "          document.querySelector('#df-ba651571-645d-4a92-bff3-9fc2b0166efb button.colab-df-convert');\n",
              "        buttonEl.style.display =\n",
              "          google.colab.kernel.accessAllowed ? 'block' : 'none';\n",
              "\n",
              "        async function convertToInteractive(key) {\n",
              "          const element = document.querySelector('#df-ba651571-645d-4a92-bff3-9fc2b0166efb');\n",
              "          const dataTable =\n",
              "            await google.colab.kernel.invokeFunction('convertToInteractive',\n",
              "                                                     [key], {});\n",
              "          if (!dataTable) return;\n",
              "\n",
              "          const docLinkHtml = 'Like what you see? Visit the ' +\n",
              "            '<a target=\"_blank\" href=https://colab.research.google.com/notebooks/data_table.ipynb>data table notebook</a>'\n",
              "            + ' to learn more about interactive tables.';\n",
              "          element.innerHTML = '';\n",
              "          dataTable['output_type'] = 'display_data';\n",
              "          await google.colab.output.renderOutput(dataTable, element);\n",
              "          const docLink = document.createElement('div');\n",
              "          docLink.innerHTML = docLinkHtml;\n",
              "          element.appendChild(docLink);\n",
              "        }\n",
              "      </script>\n",
              "    </div>\n",
              "  </div>\n",
              "  "
            ],
            "text/plain": [
              "      Nome Idade\n",
              "0  Nicolas    25\n",
              "1   Daniel    29\n",
              "2    Julia    23"
            ]
          },
          "execution_count": 10,
          "metadata": {},
          "output_type": "execute_result"
        }
      ],
      "source": [
        "df.head()"
      ]
    },
    {
      "cell_type": "code",
      "execution_count": 32,
      "metadata": {
        "colab": {
          "base_uri": "https://localhost:8080/"
        },
        "id": "rVuj8qwTc9vb",
        "outputId": "c28f3396-9ec0-4a19-ce5e-e73ff2b4a79f"
      },
      "outputs": [
        {
          "data": {
            "text/plain": [
              "Nome      object\n",
              "Idade      int64\n",
              "Cidade    object\n",
              "dtype: object"
            ]
          },
          "execution_count": 32,
          "metadata": {},
          "output_type": "execute_result"
        }
      ],
      "source": [
        "df.dtypes"
      ]
    },
    {
      "cell_type": "code",
      "execution_count": 11,
      "metadata": {
        "colab": {
          "base_uri": "https://localhost:8080/"
        },
        "id": "i_zrgU2tdEZc",
        "outputId": "5891dd5f-1f1b-46f5-9826-3cd3115c1d15"
      },
      "outputs": [
        {
          "data": {
            "text/plain": [
              "(3, 2)"
            ]
          },
          "execution_count": 11,
          "metadata": {},
          "output_type": "execute_result"
        }
      ],
      "source": [
        "df.shape"
      ]
    },
    {
      "cell_type": "code",
      "execution_count": 30,
      "metadata": {
        "colab": {
          "base_uri": "https://localhost:8080/",
          "height": 300
        },
        "id": "SlG4r-wTdKZA",
        "outputId": "9339abdd-5e8f-4af7-8bb4-35054a959a44"
      },
      "outputs": [
        {
          "data": {
            "text/html": [
              "\n",
              "  <div id=\"df-4d5dae97-9ce4-4936-9cb7-1c31127246a6\">\n",
              "    <div class=\"colab-df-container\">\n",
              "      <div>\n",
              "<style scoped>\n",
              "    .dataframe tbody tr th:only-of-type {\n",
              "        vertical-align: middle;\n",
              "    }\n",
              "\n",
              "    .dataframe tbody tr th {\n",
              "        vertical-align: top;\n",
              "    }\n",
              "\n",
              "    .dataframe thead th {\n",
              "        text-align: right;\n",
              "    }\n",
              "</style>\n",
              "<table border=\"1\" class=\"dataframe\">\n",
              "  <thead>\n",
              "    <tr style=\"text-align: right;\">\n",
              "      <th></th>\n",
              "      <th>Idade</th>\n",
              "    </tr>\n",
              "  </thead>\n",
              "  <tbody>\n",
              "    <tr>\n",
              "      <th>count</th>\n",
              "      <td>3.000000</td>\n",
              "    </tr>\n",
              "    <tr>\n",
              "      <th>mean</th>\n",
              "      <td>25.666667</td>\n",
              "    </tr>\n",
              "    <tr>\n",
              "      <th>std</th>\n",
              "      <td>3.055050</td>\n",
              "    </tr>\n",
              "    <tr>\n",
              "      <th>min</th>\n",
              "      <td>23.000000</td>\n",
              "    </tr>\n",
              "    <tr>\n",
              "      <th>25%</th>\n",
              "      <td>24.000000</td>\n",
              "    </tr>\n",
              "    <tr>\n",
              "      <th>50%</th>\n",
              "      <td>25.000000</td>\n",
              "    </tr>\n",
              "    <tr>\n",
              "      <th>75%</th>\n",
              "      <td>27.000000</td>\n",
              "    </tr>\n",
              "    <tr>\n",
              "      <th>max</th>\n",
              "      <td>29.000000</td>\n",
              "    </tr>\n",
              "  </tbody>\n",
              "</table>\n",
              "</div>\n",
              "      <button class=\"colab-df-convert\" onclick=\"convertToInteractive('df-4d5dae97-9ce4-4936-9cb7-1c31127246a6')\"\n",
              "              title=\"Convert this dataframe to an interactive table.\"\n",
              "              style=\"display:none;\">\n",
              "        \n",
              "  <svg xmlns=\"http://www.w3.org/2000/svg\" height=\"24px\"viewBox=\"0 0 24 24\"\n",
              "       width=\"24px\">\n",
              "    <path d=\"M0 0h24v24H0V0z\" fill=\"none\"/>\n",
              "    <path d=\"M18.56 5.44l.94 2.06.94-2.06 2.06-.94-2.06-.94-.94-2.06-.94 2.06-2.06.94zm-11 1L8.5 8.5l.94-2.06 2.06-.94-2.06-.94L8.5 2.5l-.94 2.06-2.06.94zm10 10l.94 2.06.94-2.06 2.06-.94-2.06-.94-.94-2.06-.94 2.06-2.06.94z\"/><path d=\"M17.41 7.96l-1.37-1.37c-.4-.4-.92-.59-1.43-.59-.52 0-1.04.2-1.43.59L10.3 9.45l-7.72 7.72c-.78.78-.78 2.05 0 2.83L4 21.41c.39.39.9.59 1.41.59.51 0 1.02-.2 1.41-.59l7.78-7.78 2.81-2.81c.8-.78.8-2.07 0-2.86zM5.41 20L4 18.59l7.72-7.72 1.47 1.35L5.41 20z\"/>\n",
              "  </svg>\n",
              "      </button>\n",
              "      \n",
              "  <style>\n",
              "    .colab-df-container {\n",
              "      display:flex;\n",
              "      flex-wrap:wrap;\n",
              "      gap: 12px;\n",
              "    }\n",
              "\n",
              "    .colab-df-convert {\n",
              "      background-color: #E8F0FE;\n",
              "      border: none;\n",
              "      border-radius: 50%;\n",
              "      cursor: pointer;\n",
              "      display: none;\n",
              "      fill: #1967D2;\n",
              "      height: 32px;\n",
              "      padding: 0 0 0 0;\n",
              "      width: 32px;\n",
              "    }\n",
              "\n",
              "    .colab-df-convert:hover {\n",
              "      background-color: #E2EBFA;\n",
              "      box-shadow: 0px 1px 2px rgba(60, 64, 67, 0.3), 0px 1px 3px 1px rgba(60, 64, 67, 0.15);\n",
              "      fill: #174EA6;\n",
              "    }\n",
              "\n",
              "    [theme=dark] .colab-df-convert {\n",
              "      background-color: #3B4455;\n",
              "      fill: #D2E3FC;\n",
              "    }\n",
              "\n",
              "    [theme=dark] .colab-df-convert:hover {\n",
              "      background-color: #434B5C;\n",
              "      box-shadow: 0px 1px 3px 1px rgba(0, 0, 0, 0.15);\n",
              "      filter: drop-shadow(0px 1px 2px rgba(0, 0, 0, 0.3));\n",
              "      fill: #FFFFFF;\n",
              "    }\n",
              "  </style>\n",
              "\n",
              "      <script>\n",
              "        const buttonEl =\n",
              "          document.querySelector('#df-4d5dae97-9ce4-4936-9cb7-1c31127246a6 button.colab-df-convert');\n",
              "        buttonEl.style.display =\n",
              "          google.colab.kernel.accessAllowed ? 'block' : 'none';\n",
              "\n",
              "        async function convertToInteractive(key) {\n",
              "          const element = document.querySelector('#df-4d5dae97-9ce4-4936-9cb7-1c31127246a6');\n",
              "          const dataTable =\n",
              "            await google.colab.kernel.invokeFunction('convertToInteractive',\n",
              "                                                     [key], {});\n",
              "          if (!dataTable) return;\n",
              "\n",
              "          const docLinkHtml = 'Like what you see? Visit the ' +\n",
              "            '<a target=\"_blank\" href=https://colab.research.google.com/notebooks/data_table.ipynb>data table notebook</a>'\n",
              "            + ' to learn more about interactive tables.';\n",
              "          element.innerHTML = '';\n",
              "          dataTable['output_type'] = 'display_data';\n",
              "          await google.colab.output.renderOutput(dataTable, element);\n",
              "          const docLink = document.createElement('div');\n",
              "          docLink.innerHTML = docLinkHtml;\n",
              "          element.appendChild(docLink);\n",
              "        }\n",
              "      </script>\n",
              "    </div>\n",
              "  </div>\n",
              "  "
            ],
            "text/plain": [
              "           Idade\n",
              "count   3.000000\n",
              "mean   25.666667\n",
              "std     3.055050\n",
              "min    23.000000\n",
              "25%    24.000000\n",
              "50%    25.000000\n",
              "75%    27.000000\n",
              "max    29.000000"
            ]
          },
          "execution_count": 30,
          "metadata": {},
          "output_type": "execute_result"
        }
      ],
      "source": [
        "df.describe() #descreve os dados numericos do dataframe"
      ]
    },
    {
      "cell_type": "code",
      "execution_count": 29,
      "metadata": {
        "colab": {
          "base_uri": "https://localhost:8080/",
          "height": 394
        },
        "id": "BKxNlh4MdNyq",
        "outputId": "b0264bef-76aa-481d-9aaa-6311ec1c70a3"
      },
      "outputs": [
        {
          "data": {
            "text/html": [
              "\n",
              "  <div id=\"df-83b7d818-cdda-4806-9df1-93edfe44c1b5\">\n",
              "    <div class=\"colab-df-container\">\n",
              "      <div>\n",
              "<style scoped>\n",
              "    .dataframe tbody tr th:only-of-type {\n",
              "        vertical-align: middle;\n",
              "    }\n",
              "\n",
              "    .dataframe tbody tr th {\n",
              "        vertical-align: top;\n",
              "    }\n",
              "\n",
              "    .dataframe thead th {\n",
              "        text-align: right;\n",
              "    }\n",
              "</style>\n",
              "<table border=\"1\" class=\"dataframe\">\n",
              "  <thead>\n",
              "    <tr style=\"text-align: right;\">\n",
              "      <th></th>\n",
              "      <th>Nome</th>\n",
              "      <th>Idade</th>\n",
              "      <th>Cidade</th>\n",
              "    </tr>\n",
              "  </thead>\n",
              "  <tbody>\n",
              "    <tr>\n",
              "      <th>count</th>\n",
              "      <td>3</td>\n",
              "      <td>3.000000</td>\n",
              "      <td>3</td>\n",
              "    </tr>\n",
              "    <tr>\n",
              "      <th>unique</th>\n",
              "      <td>3</td>\n",
              "      <td>NaN</td>\n",
              "      <td>3</td>\n",
              "    </tr>\n",
              "    <tr>\n",
              "      <th>top</th>\n",
              "      <td>Nicolas</td>\n",
              "      <td>NaN</td>\n",
              "      <td>São Paulo</td>\n",
              "    </tr>\n",
              "    <tr>\n",
              "      <th>freq</th>\n",
              "      <td>1</td>\n",
              "      <td>NaN</td>\n",
              "      <td>1</td>\n",
              "    </tr>\n",
              "    <tr>\n",
              "      <th>mean</th>\n",
              "      <td>NaN</td>\n",
              "      <td>25.666667</td>\n",
              "      <td>NaN</td>\n",
              "    </tr>\n",
              "    <tr>\n",
              "      <th>std</th>\n",
              "      <td>NaN</td>\n",
              "      <td>3.055050</td>\n",
              "      <td>NaN</td>\n",
              "    </tr>\n",
              "    <tr>\n",
              "      <th>min</th>\n",
              "      <td>NaN</td>\n",
              "      <td>23.000000</td>\n",
              "      <td>NaN</td>\n",
              "    </tr>\n",
              "    <tr>\n",
              "      <th>25%</th>\n",
              "      <td>NaN</td>\n",
              "      <td>24.000000</td>\n",
              "      <td>NaN</td>\n",
              "    </tr>\n",
              "    <tr>\n",
              "      <th>50%</th>\n",
              "      <td>NaN</td>\n",
              "      <td>25.000000</td>\n",
              "      <td>NaN</td>\n",
              "    </tr>\n",
              "    <tr>\n",
              "      <th>75%</th>\n",
              "      <td>NaN</td>\n",
              "      <td>27.000000</td>\n",
              "      <td>NaN</td>\n",
              "    </tr>\n",
              "    <tr>\n",
              "      <th>max</th>\n",
              "      <td>NaN</td>\n",
              "      <td>29.000000</td>\n",
              "      <td>NaN</td>\n",
              "    </tr>\n",
              "  </tbody>\n",
              "</table>\n",
              "</div>\n",
              "      <button class=\"colab-df-convert\" onclick=\"convertToInteractive('df-83b7d818-cdda-4806-9df1-93edfe44c1b5')\"\n",
              "              title=\"Convert this dataframe to an interactive table.\"\n",
              "              style=\"display:none;\">\n",
              "        \n",
              "  <svg xmlns=\"http://www.w3.org/2000/svg\" height=\"24px\"viewBox=\"0 0 24 24\"\n",
              "       width=\"24px\">\n",
              "    <path d=\"M0 0h24v24H0V0z\" fill=\"none\"/>\n",
              "    <path d=\"M18.56 5.44l.94 2.06.94-2.06 2.06-.94-2.06-.94-.94-2.06-.94 2.06-2.06.94zm-11 1L8.5 8.5l.94-2.06 2.06-.94-2.06-.94L8.5 2.5l-.94 2.06-2.06.94zm10 10l.94 2.06.94-2.06 2.06-.94-2.06-.94-.94-2.06-.94 2.06-2.06.94z\"/><path d=\"M17.41 7.96l-1.37-1.37c-.4-.4-.92-.59-1.43-.59-.52 0-1.04.2-1.43.59L10.3 9.45l-7.72 7.72c-.78.78-.78 2.05 0 2.83L4 21.41c.39.39.9.59 1.41.59.51 0 1.02-.2 1.41-.59l7.78-7.78 2.81-2.81c.8-.78.8-2.07 0-2.86zM5.41 20L4 18.59l7.72-7.72 1.47 1.35L5.41 20z\"/>\n",
              "  </svg>\n",
              "      </button>\n",
              "      \n",
              "  <style>\n",
              "    .colab-df-container {\n",
              "      display:flex;\n",
              "      flex-wrap:wrap;\n",
              "      gap: 12px;\n",
              "    }\n",
              "\n",
              "    .colab-df-convert {\n",
              "      background-color: #E8F0FE;\n",
              "      border: none;\n",
              "      border-radius: 50%;\n",
              "      cursor: pointer;\n",
              "      display: none;\n",
              "      fill: #1967D2;\n",
              "      height: 32px;\n",
              "      padding: 0 0 0 0;\n",
              "      width: 32px;\n",
              "    }\n",
              "\n",
              "    .colab-df-convert:hover {\n",
              "      background-color: #E2EBFA;\n",
              "      box-shadow: 0px 1px 2px rgba(60, 64, 67, 0.3), 0px 1px 3px 1px rgba(60, 64, 67, 0.15);\n",
              "      fill: #174EA6;\n",
              "    }\n",
              "\n",
              "    [theme=dark] .colab-df-convert {\n",
              "      background-color: #3B4455;\n",
              "      fill: #D2E3FC;\n",
              "    }\n",
              "\n",
              "    [theme=dark] .colab-df-convert:hover {\n",
              "      background-color: #434B5C;\n",
              "      box-shadow: 0px 1px 3px 1px rgba(0, 0, 0, 0.15);\n",
              "      filter: drop-shadow(0px 1px 2px rgba(0, 0, 0, 0.3));\n",
              "      fill: #FFFFFF;\n",
              "    }\n",
              "  </style>\n",
              "\n",
              "      <script>\n",
              "        const buttonEl =\n",
              "          document.querySelector('#df-83b7d818-cdda-4806-9df1-93edfe44c1b5 button.colab-df-convert');\n",
              "        buttonEl.style.display =\n",
              "          google.colab.kernel.accessAllowed ? 'block' : 'none';\n",
              "\n",
              "        async function convertToInteractive(key) {\n",
              "          const element = document.querySelector('#df-83b7d818-cdda-4806-9df1-93edfe44c1b5');\n",
              "          const dataTable =\n",
              "            await google.colab.kernel.invokeFunction('convertToInteractive',\n",
              "                                                     [key], {});\n",
              "          if (!dataTable) return;\n",
              "\n",
              "          const docLinkHtml = 'Like what you see? Visit the ' +\n",
              "            '<a target=\"_blank\" href=https://colab.research.google.com/notebooks/data_table.ipynb>data table notebook</a>'\n",
              "            + ' to learn more about interactive tables.';\n",
              "          element.innerHTML = '';\n",
              "          dataTable['output_type'] = 'display_data';\n",
              "          await google.colab.output.renderOutput(dataTable, element);\n",
              "          const docLink = document.createElement('div');\n",
              "          docLink.innerHTML = docLinkHtml;\n",
              "          element.appendChild(docLink);\n",
              "        }\n",
              "      </script>\n",
              "    </div>\n",
              "  </div>\n",
              "  "
            ],
            "text/plain": [
              "           Nome      Idade     Cidade\n",
              "count         3   3.000000          3\n",
              "unique        3        NaN          3\n",
              "top     Nicolas        NaN  São Paulo\n",
              "freq          1        NaN          1\n",
              "mean        NaN  25.666667        NaN\n",
              "std         NaN   3.055050        NaN\n",
              "min         NaN  23.000000        NaN\n",
              "25%         NaN  24.000000        NaN\n",
              "50%         NaN  25.000000        NaN\n",
              "75%         NaN  27.000000        NaN\n",
              "max         NaN  29.000000        NaN"
            ]
          },
          "execution_count": 29,
          "metadata": {},
          "output_type": "execute_result"
        }
      ],
      "source": [
        "df.describe(include=\"all\")"
      ]
    },
    {
      "cell_type": "code",
      "execution_count": 33,
      "metadata": {
        "colab": {
          "base_uri": "https://localhost:8080/",
          "height": 174
        },
        "id": "JFlFpWdSfQCj",
        "outputId": "65e063d4-0bb7-4612-bc0f-1e7df17ff0f1"
      },
      "outputs": [
        {
          "data": {
            "text/html": [
              "\n",
              "  <div id=\"df-88f51cc3-7d05-4adb-9897-dd87025ff4ed\">\n",
              "    <div class=\"colab-df-container\">\n",
              "      <div>\n",
              "<style scoped>\n",
              "    .dataframe tbody tr th:only-of-type {\n",
              "        vertical-align: middle;\n",
              "    }\n",
              "\n",
              "    .dataframe tbody tr th {\n",
              "        vertical-align: top;\n",
              "    }\n",
              "\n",
              "    .dataframe thead th {\n",
              "        text-align: right;\n",
              "    }\n",
              "</style>\n",
              "<table border=\"1\" class=\"dataframe\">\n",
              "  <thead>\n",
              "    <tr style=\"text-align: right;\">\n",
              "      <th></th>\n",
              "      <th>Nome</th>\n",
              "      <th>Cidade</th>\n",
              "    </tr>\n",
              "  </thead>\n",
              "  <tbody>\n",
              "    <tr>\n",
              "      <th>count</th>\n",
              "      <td>3</td>\n",
              "      <td>3</td>\n",
              "    </tr>\n",
              "    <tr>\n",
              "      <th>unique</th>\n",
              "      <td>3</td>\n",
              "      <td>3</td>\n",
              "    </tr>\n",
              "    <tr>\n",
              "      <th>top</th>\n",
              "      <td>Nicolas</td>\n",
              "      <td>São Paulo</td>\n",
              "    </tr>\n",
              "    <tr>\n",
              "      <th>freq</th>\n",
              "      <td>1</td>\n",
              "      <td>1</td>\n",
              "    </tr>\n",
              "  </tbody>\n",
              "</table>\n",
              "</div>\n",
              "      <button class=\"colab-df-convert\" onclick=\"convertToInteractive('df-88f51cc3-7d05-4adb-9897-dd87025ff4ed')\"\n",
              "              title=\"Convert this dataframe to an interactive table.\"\n",
              "              style=\"display:none;\">\n",
              "        \n",
              "  <svg xmlns=\"http://www.w3.org/2000/svg\" height=\"24px\"viewBox=\"0 0 24 24\"\n",
              "       width=\"24px\">\n",
              "    <path d=\"M0 0h24v24H0V0z\" fill=\"none\"/>\n",
              "    <path d=\"M18.56 5.44l.94 2.06.94-2.06 2.06-.94-2.06-.94-.94-2.06-.94 2.06-2.06.94zm-11 1L8.5 8.5l.94-2.06 2.06-.94-2.06-.94L8.5 2.5l-.94 2.06-2.06.94zm10 10l.94 2.06.94-2.06 2.06-.94-2.06-.94-.94-2.06-.94 2.06-2.06.94z\"/><path d=\"M17.41 7.96l-1.37-1.37c-.4-.4-.92-.59-1.43-.59-.52 0-1.04.2-1.43.59L10.3 9.45l-7.72 7.72c-.78.78-.78 2.05 0 2.83L4 21.41c.39.39.9.59 1.41.59.51 0 1.02-.2 1.41-.59l7.78-7.78 2.81-2.81c.8-.78.8-2.07 0-2.86zM5.41 20L4 18.59l7.72-7.72 1.47 1.35L5.41 20z\"/>\n",
              "  </svg>\n",
              "      </button>\n",
              "      \n",
              "  <style>\n",
              "    .colab-df-container {\n",
              "      display:flex;\n",
              "      flex-wrap:wrap;\n",
              "      gap: 12px;\n",
              "    }\n",
              "\n",
              "    .colab-df-convert {\n",
              "      background-color: #E8F0FE;\n",
              "      border: none;\n",
              "      border-radius: 50%;\n",
              "      cursor: pointer;\n",
              "      display: none;\n",
              "      fill: #1967D2;\n",
              "      height: 32px;\n",
              "      padding: 0 0 0 0;\n",
              "      width: 32px;\n",
              "    }\n",
              "\n",
              "    .colab-df-convert:hover {\n",
              "      background-color: #E2EBFA;\n",
              "      box-shadow: 0px 1px 2px rgba(60, 64, 67, 0.3), 0px 1px 3px 1px rgba(60, 64, 67, 0.15);\n",
              "      fill: #174EA6;\n",
              "    }\n",
              "\n",
              "    [theme=dark] .colab-df-convert {\n",
              "      background-color: #3B4455;\n",
              "      fill: #D2E3FC;\n",
              "    }\n",
              "\n",
              "    [theme=dark] .colab-df-convert:hover {\n",
              "      background-color: #434B5C;\n",
              "      box-shadow: 0px 1px 3px 1px rgba(0, 0, 0, 0.15);\n",
              "      filter: drop-shadow(0px 1px 2px rgba(0, 0, 0, 0.3));\n",
              "      fill: #FFFFFF;\n",
              "    }\n",
              "  </style>\n",
              "\n",
              "      <script>\n",
              "        const buttonEl =\n",
              "          document.querySelector('#df-88f51cc3-7d05-4adb-9897-dd87025ff4ed button.colab-df-convert');\n",
              "        buttonEl.style.display =\n",
              "          google.colab.kernel.accessAllowed ? 'block' : 'none';\n",
              "\n",
              "        async function convertToInteractive(key) {\n",
              "          const element = document.querySelector('#df-88f51cc3-7d05-4adb-9897-dd87025ff4ed');\n",
              "          const dataTable =\n",
              "            await google.colab.kernel.invokeFunction('convertToInteractive',\n",
              "                                                     [key], {});\n",
              "          if (!dataTable) return;\n",
              "\n",
              "          const docLinkHtml = 'Like what you see? Visit the ' +\n",
              "            '<a target=\"_blank\" href=https://colab.research.google.com/notebooks/data_table.ipynb>data table notebook</a>'\n",
              "            + ' to learn more about interactive tables.';\n",
              "          element.innerHTML = '';\n",
              "          dataTable['output_type'] = 'display_data';\n",
              "          await google.colab.output.renderOutput(dataTable, element);\n",
              "          const docLink = document.createElement('div');\n",
              "          docLink.innerHTML = docLinkHtml;\n",
              "          element.appendChild(docLink);\n",
              "        }\n",
              "      </script>\n",
              "    </div>\n",
              "  </div>\n",
              "  "
            ],
            "text/plain": [
              "           Nome     Cidade\n",
              "count         3          3\n",
              "unique        3          3\n",
              "top     Nicolas  São Paulo\n",
              "freq          1          1"
            ]
          },
          "execution_count": 33,
          "metadata": {},
          "output_type": "execute_result"
        }
      ],
      "source": [
        "df.describe(include=object)"
      ]
    },
    {
      "cell_type": "code",
      "execution_count": 26,
      "metadata": {
        "colab": {
          "base_uri": "https://localhost:8080/"
        },
        "id": "btq7Z0zDd6iz",
        "outputId": "01721c5e-4091-4ad7-fdcb-89b3814e75ff"
      },
      "outputs": [
        {
          "name": "stdout",
          "output_type": "stream",
          "text": [
            "Help on function describe in module pandas.core.generic:\n",
            "\n",
            "describe(self: 'FrameOrSeries', percentiles=None, include=None, exclude=None, datetime_is_numeric=False) -> 'FrameOrSeries'\n",
            "    Generate descriptive statistics.\n",
            "    \n",
            "    Descriptive statistics include those that summarize the central\n",
            "    tendency, dispersion and shape of a\n",
            "    dataset's distribution, excluding ``NaN`` values.\n",
            "    \n",
            "    Analyzes both numeric and object series, as well\n",
            "    as ``DataFrame`` column sets of mixed data types. The output\n",
            "    will vary depending on what is provided. Refer to the notes\n",
            "    below for more detail.\n",
            "    \n",
            "    Parameters\n",
            "    ----------\n",
            "    percentiles : list-like of numbers, optional\n",
            "        The percentiles to include in the output. All should\n",
            "        fall between 0 and 1. The default is\n",
            "        ``[.25, .5, .75]``, which returns the 25th, 50th, and\n",
            "        75th percentiles.\n",
            "    include : 'all', list-like of dtypes or None (default), optional\n",
            "        A white list of data types to include in the result. Ignored\n",
            "        for ``Series``. Here are the options:\n",
            "    \n",
            "        - 'all' : All columns of the input will be included in the output.\n",
            "        - A list-like of dtypes : Limits the results to the\n",
            "          provided data types.\n",
            "          To limit the result to numeric types submit\n",
            "          ``numpy.number``. To limit it instead to object columns submit\n",
            "          the ``numpy.object`` data type. Strings\n",
            "          can also be used in the style of\n",
            "          ``select_dtypes`` (e.g. ``df.describe(include=['O'])``). To\n",
            "          select pandas categorical columns, use ``'category'``\n",
            "        - None (default) : The result will include all numeric columns.\n",
            "    exclude : list-like of dtypes or None (default), optional,\n",
            "        A black list of data types to omit from the result. Ignored\n",
            "        for ``Series``. Here are the options:\n",
            "    \n",
            "        - A list-like of dtypes : Excludes the provided data types\n",
            "          from the result. To exclude numeric types submit\n",
            "          ``numpy.number``. To exclude object columns submit the data\n",
            "          type ``numpy.object``. Strings can also be used in the style of\n",
            "          ``select_dtypes`` (e.g. ``df.describe(include=['O'])``). To\n",
            "          exclude pandas categorical columns, use ``'category'``\n",
            "        - None (default) : The result will exclude nothing.\n",
            "    datetime_is_numeric : bool, default False\n",
            "        Whether to treat datetime dtypes as numeric. This affects statistics\n",
            "        calculated for the column. For DataFrame input, this also\n",
            "        controls whether datetime columns are included by default.\n",
            "    \n",
            "        .. versionadded:: 1.1.0\n",
            "    \n",
            "    Returns\n",
            "    -------\n",
            "    Series or DataFrame\n",
            "        Summary statistics of the Series or Dataframe provided.\n",
            "    \n",
            "    See Also\n",
            "    --------\n",
            "    DataFrame.count: Count number of non-NA/null observations.\n",
            "    DataFrame.max: Maximum of the values in the object.\n",
            "    DataFrame.min: Minimum of the values in the object.\n",
            "    DataFrame.mean: Mean of the values.\n",
            "    DataFrame.std: Standard deviation of the observations.\n",
            "    DataFrame.select_dtypes: Subset of a DataFrame including/excluding\n",
            "        columns based on their dtype.\n",
            "    \n",
            "    Notes\n",
            "    -----\n",
            "    For numeric data, the result's index will include ``count``,\n",
            "    ``mean``, ``std``, ``min``, ``max`` as well as lower, ``50`` and\n",
            "    upper percentiles. By default the lower percentile is ``25`` and the\n",
            "    upper percentile is ``75``. The ``50`` percentile is the\n",
            "    same as the median.\n",
            "    \n",
            "    For object data (e.g. strings or timestamps), the result's index\n",
            "    will include ``count``, ``unique``, ``top``, and ``freq``. The ``top``\n",
            "    is the most common value. The ``freq`` is the most common value's\n",
            "    frequency. Timestamps also include the ``first`` and ``last`` items.\n",
            "    \n",
            "    If multiple object values have the highest count, then the\n",
            "    ``count`` and ``top`` results will be arbitrarily chosen from\n",
            "    among those with the highest count.\n",
            "    \n",
            "    For mixed data types provided via a ``DataFrame``, the default is to\n",
            "    return only an analysis of numeric columns. If the dataframe consists\n",
            "    only of object and categorical data without any numeric columns, the\n",
            "    default is to return an analysis of both the object and categorical\n",
            "    columns. If ``include='all'`` is provided as an option, the result\n",
            "    will include a union of attributes of each type.\n",
            "    \n",
            "    The `include` and `exclude` parameters can be used to limit\n",
            "    which columns in a ``DataFrame`` are analyzed for the output.\n",
            "    The parameters are ignored when analyzing a ``Series``.\n",
            "    \n",
            "    Examples\n",
            "    --------\n",
            "    Describing a numeric ``Series``.\n",
            "    \n",
            "    >>> s = pd.Series([1, 2, 3])\n",
            "    >>> s.describe()\n",
            "    count    3.0\n",
            "    mean     2.0\n",
            "    std      1.0\n",
            "    min      1.0\n",
            "    25%      1.5\n",
            "    50%      2.0\n",
            "    75%      2.5\n",
            "    max      3.0\n",
            "    dtype: float64\n",
            "    \n",
            "    Describing a categorical ``Series``.\n",
            "    \n",
            "    >>> s = pd.Series(['a', 'a', 'b', 'c'])\n",
            "    >>> s.describe()\n",
            "    count     4\n",
            "    unique    3\n",
            "    top       a\n",
            "    freq      2\n",
            "    dtype: object\n",
            "    \n",
            "    Describing a timestamp ``Series``.\n",
            "    \n",
            "    >>> s = pd.Series([\n",
            "    ...   np.datetime64(\"2000-01-01\"),\n",
            "    ...   np.datetime64(\"2010-01-01\"),\n",
            "    ...   np.datetime64(\"2010-01-01\")\n",
            "    ... ])\n",
            "    >>> s.describe(datetime_is_numeric=True)\n",
            "    count                      3\n",
            "    mean     2006-09-01 08:00:00\n",
            "    min      2000-01-01 00:00:00\n",
            "    25%      2004-12-31 12:00:00\n",
            "    50%      2010-01-01 00:00:00\n",
            "    75%      2010-01-01 00:00:00\n",
            "    max      2010-01-01 00:00:00\n",
            "    dtype: object\n",
            "    \n",
            "    Describing a ``DataFrame``. By default only numeric fields\n",
            "    are returned.\n",
            "    \n",
            "    >>> df = pd.DataFrame({'categorical': pd.Categorical(['d','e','f']),\n",
            "    ...                    'numeric': [1, 2, 3],\n",
            "    ...                    'object': ['a', 'b', 'c']\n",
            "    ...                   })\n",
            "    >>> df.describe()\n",
            "           numeric\n",
            "    count      3.0\n",
            "    mean       2.0\n",
            "    std        1.0\n",
            "    min        1.0\n",
            "    25%        1.5\n",
            "    50%        2.0\n",
            "    75%        2.5\n",
            "    max        3.0\n",
            "    \n",
            "    Describing all columns of a ``DataFrame`` regardless of data type.\n",
            "    \n",
            "    >>> df.describe(include='all')  # doctest: +SKIP\n",
            "           categorical  numeric object\n",
            "    count            3      3.0      3\n",
            "    unique           3      NaN      3\n",
            "    top              f      NaN      a\n",
            "    freq             1      NaN      1\n",
            "    mean           NaN      2.0    NaN\n",
            "    std            NaN      1.0    NaN\n",
            "    min            NaN      1.0    NaN\n",
            "    25%            NaN      1.5    NaN\n",
            "    50%            NaN      2.0    NaN\n",
            "    75%            NaN      2.5    NaN\n",
            "    max            NaN      3.0    NaN\n",
            "    \n",
            "    Describing a column from a ``DataFrame`` by accessing it as\n",
            "    an attribute.\n",
            "    \n",
            "    >>> df.numeric.describe()\n",
            "    count    3.0\n",
            "    mean     2.0\n",
            "    std      1.0\n",
            "    min      1.0\n",
            "    25%      1.5\n",
            "    50%      2.0\n",
            "    75%      2.5\n",
            "    max      3.0\n",
            "    Name: numeric, dtype: float64\n",
            "    \n",
            "    Including only numeric columns in a ``DataFrame`` description.\n",
            "    \n",
            "    >>> df.describe(include=[np.number])\n",
            "           numeric\n",
            "    count      3.0\n",
            "    mean       2.0\n",
            "    std        1.0\n",
            "    min        1.0\n",
            "    25%        1.5\n",
            "    50%        2.0\n",
            "    75%        2.5\n",
            "    max        3.0\n",
            "    \n",
            "    Including only string columns in a ``DataFrame`` description.\n",
            "    \n",
            "    >>> df.describe(include=[object])  # doctest: +SKIP\n",
            "           object\n",
            "    count       3\n",
            "    unique      3\n",
            "    top         a\n",
            "    freq        1\n",
            "    \n",
            "    Including only categorical columns from a ``DataFrame`` description.\n",
            "    \n",
            "    >>> df.describe(include=['category'])\n",
            "           categorical\n",
            "    count            3\n",
            "    unique           3\n",
            "    top              d\n",
            "    freq             1\n",
            "    \n",
            "    Excluding numeric columns from a ``DataFrame`` description.\n",
            "    \n",
            "    >>> df.describe(exclude=[np.number])  # doctest: +SKIP\n",
            "           categorical object\n",
            "    count            3      3\n",
            "    unique           3      3\n",
            "    top              f      a\n",
            "    freq             1      1\n",
            "    \n",
            "    Excluding object columns from a ``DataFrame`` description.\n",
            "    \n",
            "    >>> df.describe(exclude=[object])  # doctest: +SKIP\n",
            "           categorical  numeric\n",
            "    count            3      3.0\n",
            "    unique           3      NaN\n",
            "    top              f      NaN\n",
            "    freq             1      NaN\n",
            "    mean           NaN      2.0\n",
            "    std            NaN      1.0\n",
            "    min            NaN      1.0\n",
            "    25%            NaN      1.5\n",
            "    50%            NaN      2.0\n",
            "    75%            NaN      2.5\n",
            "    max            NaN      3.0\n",
            "\n"
          ]
        }
      ],
      "source": [
        "help(pd.DataFrame.describe)"
      ]
    },
    {
      "cell_type": "code",
      "execution_count": null,
      "metadata": {
        "id": "sIKK0TDYjN44"
      },
      "outputs": [],
      "source": []
    },
    {
      "cell_type": "code",
      "execution_count": null,
      "metadata": {
        "id": "e6O3kxTSeHAO"
      },
      "outputs": [],
      "source": [
        "from google.colab import files\n",
        "uploaded=files.upload()"
      ]
    },
    {
      "cell_type": "code",
      "execution_count": null,
      "metadata": {
        "id": "4jeV9sJpe1dU"
      },
      "outputs": [],
      "source": [
        "dfSalary = pd.read_csv('Salary Dataset.csv',sep=';')"
      ]
    },
    {
      "cell_type": "code",
      "execution_count": null,
      "metadata": {
        "id": "ZiDg7F3jhBV6"
      },
      "outputs": [],
      "source": [
        "dfSalary.head() #mostrar os 5 primeiros elementos do dataframe, caso coloque um valor dentro, irá printar a quantidade solicitada"
      ]
    },
    {
      "cell_type": "code",
      "execution_count": null,
      "metadata": {
        "id": "hNHwNgfShQUA"
      },
      "outputs": [],
      "source": [
        "dfSalary.tail() #mostra os 5 utlimos elementos do dataframe"
      ]
    },
    {
      "cell_type": "code",
      "execution_count": null,
      "metadata": {
        "id": "7yx5YRIMhDmq"
      },
      "outputs": [],
      "source": [
        "dfSalary.shape"
      ]
    },
    {
      "cell_type": "code",
      "execution_count": null,
      "metadata": {
        "id": "vMlln2H-hF7T"
      },
      "outputs": [],
      "source": [
        "dfSalary.dtypes"
      ]
    },
    {
      "cell_type": "code",
      "execution_count": null,
      "metadata": {
        "id": "-mfESUOjhd_0"
      },
      "outputs": [],
      "source": [
        "dfSalary.describe()"
      ]
    },
    {
      "cell_type": "code",
      "execution_count": null,
      "metadata": {
        "id": "06XqVVXzhguA"
      },
      "outputs": [],
      "source": [
        "dfSalary.describe(include=object)"
      ]
    },
    {
      "cell_type": "code",
      "execution_count": null,
      "metadata": {
        "id": "h1eTCoIUjjEr"
      },
      "outputs": [],
      "source": [
        "dfSalary['Location'].unique"
      ]
    },
    {
      "cell_type": "code",
      "execution_count": null,
      "metadata": {
        "id": "yNkHPHxykU3q"
      },
      "outputs": [],
      "source": [
        "#EDA: Exploratory Data Analisys"
      ]
    },
    {
      "cell_type": "code",
      "execution_count": null,
      "metadata": {
        "id": "Mid6mNkTkYVi"
      },
      "outputs": [],
      "source": [
        "dfSalary.isna().sum() #isnull e isna é basicamente a mesma coisa"
      ]
    },
    {
      "cell_type": "code",
      "execution_count": null,
      "metadata": {
        "id": "javKvcZAlg3v"
      },
      "outputs": [],
      "source": [
        "dfSalary[df['Company Name'].isna()]\n",
        "dfSalary.loc[pd.isnull(df['Company Name'])] # se nao funcionar tentar iloc"
      ]
    },
    {
      "cell_type": "code",
      "execution_count": null,
      "metadata": {
        "id": "0NqljEN_m-Jw"
      },
      "outputs": [],
      "source": [
        "#dfSalary['Salary Reported'].fillna(dfSalary['Salary Reported'].mode)# coloca a moda dos valores nas linhas que tem o campo Salario vazio"
      ]
    },
    {
      "cell_type": "code",
      "execution_count": null,
      "metadata": {
        "id": "gpIjZaGBn3eq"
      },
      "outputs": [],
      "source": [
        "dfSalary=dfSalary['Company Name'].dropna()"
      ]
    },
    {
      "cell_type": "code",
      "execution_count": null,
      "metadata": {
        "id": "L56R5IZDp_AH"
      },
      "outputs": [],
      "source": [
        "dfSalary.isna().sum()"
      ]
    },
    {
      "cell_type": "code",
      "execution_count": null,
      "metadata": {
        "id": "v_C4jNBmoql8"
      },
      "outputs": [],
      "source": [
        "variavel = df.describe().loc['Linha','Coluna']\n"
      ]
    },
    {
      "cell_type": "code",
      "execution_count": null,
      "metadata": {
        "id": "4noWM2Taqy2O"
      },
      "outputs": [],
      "source": [
        "type(dfSalary)"
      ]
    },
    {
      "cell_type": "code",
      "execution_count": null,
      "metadata": {
        "id": "tuPk1FZyq279"
      },
      "outputs": [],
      "source": [
        "type(dfSalary['Salary'])"
      ]
    },
    {
      "cell_type": "code",
      "execution_count": null,
      "metadata": {
        "id": "HpEprD4lrA0v"
      },
      "outputs": [],
      "source": [
        "dfSalary['Salary'].str.split('/',expand=True)"
      ]
    },
    {
      "cell_type": "code",
      "execution_count": null,
      "metadata": {
        "id": "Cfw8q_Z_r0A5"
      },
      "outputs": [],
      "source": [
        "dfSalary [['Salary','Salary Unit']]= dfSalary['Salary'].str.split('/',expand=True)"
      ]
    },
    {
      "cell_type": "code",
      "execution_count": null,
      "metadata": {
        "id": "XvBkUVwUuakC"
      },
      "outputs": [],
      "source": [
        "dfSalary['Salary']=dfSalary['Salary'].apply(lambda x: x.lstrip('simbulo da rupia').replace(',','')) #apply, aplica o que esta em parenteses.\n",
        "#lambda variavel para fazer o apply para cada um dos elementos da coluna setada"
      ]
    },
    {
      "cell_type": "code",
      "execution_count": null,
      "metadata": {
        "id": "YyW_QrDlw0bM"
      },
      "outputs": [],
      "source": [
        "dfSalary['Salary']=dfSalary['Salary'].astype(int)"
      ]
    },
    {
      "cell_type": "code",
      "execution_count": null,
      "metadata": {
        "id": "GfPSiAbrxGFD"
      },
      "outputs": [],
      "source": [
        "dfSalary.dtypes"
      ]
    },
    {
      "cell_type": "code",
      "execution_count": null,
      "metadata": {
        "id": "uSbUT2BdxYAz"
      },
      "outputs": [],
      "source": [
        "pd.set_option('display.float_format',lambda x: '%.2f'%x)"
      ]
    },
    {
      "cell_type": "code",
      "execution_count": null,
      "metadata": {
        "id": "ndxNtjQCxI-8"
      },
      "outputs": [],
      "source": [
        "dfSalary.describe()"
      ]
    },
    {
      "cell_type": "code",
      "execution_count": null,
      "metadata": {
        "id": "_H0fYl7ax0jZ"
      },
      "outputs": [],
      "source": [
        "df[df['Salary']==26.00]"
      ]
    },
    {
      "cell_type": "code",
      "execution_count": null,
      "metadata": {
        "id": "kutF6Ganx6nh"
      },
      "outputs": [],
      "source": [
        "# Resolver problema de unidade de salario, hora para mes para ano\n",
        "# dfSalary['Salary']=dfSalary['Salary','Salary Unit'].apply(lambda x: x['Salary']*conversão hora para ano if x['Salary Unit']==\"hr\"(x['Salary']*conversão mes para ano if x['Salary Unit']==\"mounth\" else x['Salary']))\n",
        "# Converter para real\n",
        "# dfSalary['Salary']=dfSalary['Salary'].apply(lambda x: x*conversão da moeda)"
      ]
    },
    {
      "cell_type": "code",
      "execution_count": null,
      "metadata": {
        "id": "MTbu7OF-yYRk"
      },
      "outputs": [],
      "source": [
        "import matplotlib.pyplot as plt\n",
        "import seaborn as sns\n",
        "# Qual é melhor MaTPLOT LIB, SEABORN ou PLOTLY? depende para o que voce irá utilizar"
      ]
    },
    {
      "cell_type": "code",
      "execution_count": null,
      "metadata": {
        "id": "Mpvv2ha_ytuz"
      },
      "outputs": [],
      "source": [
        "sns.histplot(dfSalary['Salary'])"
      ]
    },
    {
      "cell_type": "code",
      "execution_count": null,
      "metadata": {
        "id": "mNnYiIOr1GdA"
      },
      "outputs": [],
      "source": [
        "dfGroupLocation = dfSalary.groupby('Location')['Salary'].agg('mean').reset_index()"
      ]
    },
    {
      "cell_type": "code",
      "execution_count": null,
      "metadata": {
        "id": "_KnLPqfR1uyE"
      },
      "outputs": [],
      "source": [
        "sns.barplot(x='Location',y='Salary',data=dfGroupLocation)"
      ]
    },
    {
      "cell_type": "code",
      "execution_count": null,
      "metadata": {
        "id": "Md3RXON72P7h"
      },
      "outputs": [],
      "source": [
        "sns.boxplot(y='Salary',x='Job Title',data=dfSalary[dfSalary['Company Name']==\"IBM\"]"
      ]
    }
  ],
  "metadata": {
    "colab": {
      "authorship_tag": "ABX9TyPx0vYEL+aqSZqL5G/GZjn3",
      "include_colab_link": true,
      "name": "Day 3.ipynb",
      "provenance": []
    },
    "kernelspec": {
      "display_name": "Python 3",
      "name": "python3"
    },
    "language_info": {
      "name": "python"
    }
  },
  "nbformat": 4,
  "nbformat_minor": 0
}
